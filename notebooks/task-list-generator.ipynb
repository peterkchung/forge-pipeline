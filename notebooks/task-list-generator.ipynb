{
 "cells": [
  {
   "cell_type": "markdown",
   "metadata": {},
   "source": [
    "Prompt  \n",
    "Generate  \n",
    "Post Process  \n",
    "Validate  \n",
    "\n",
    "https://github.com/tatsu-lab/stanford_alpaca#data-generation-process  \n",
    "https://arxiv.org/abs/2203.11171  \n",
    "https://arxiv.org/abs/2212.09689v1  \n",
    "https://arxiv.org/abs/2201.07207  "
   ]
  },
  {
   "cell_type": "code",
   "execution_count": null,
   "metadata": {},
   "outputs": [],
   "source": [
    "from datasets import load_dataset\n",
    "from huggingface_hub import InferenceClient\n",
    "\n",
    "from pprint import pprint\n",
    "import random\n",
    "import os"
   ]
  },
  {
   "cell_type": "code",
   "execution_count": null,
   "metadata": {},
   "outputs": [],
   "source": [
    "prompt = \"\"\"\n",
    "You are a helpful planning agent for data analysis. You are given tools and a description of progress. You need to generate a sequences of tasks and goals for a request using the tools and progress.\n",
    "Tools: {tools}\n",
    "Progress: {progress}\n",
    "Request: How can we {request}?\n",
    "Response:\n",
    "\"\"\"\n",
    "\n",
    "tools = {}\n",
    "\n",
    "progress = {}\n",
    "\n",
    "request = {}\n",
    "\n",
    "pprint(prompt)"
   ]
  },
  {
   "cell_type": "code",
   "execution_count": 10,
   "metadata": {},
   "outputs": [
    {
     "name": "stdout",
     "output_type": "stream",
     "text": [
      "Task: Write an email\n",
      "Step 1: Walk to home office\n",
      "Step 2: Walk to computer\n",
      "Step 3: Find computer\n",
      "Step 4: Turn to computer\n",
      "Step 5: Look at computer\n",
      "Step 6: Walk to computer\n",
      "Step 7: Find chair\n",
      "Step 8: Sit on chair\n",
      "Step 9: Find keyboard\n",
      "Step 10: Grab keyboard\n",
      "Step 11: Find mouse\n",
      "Step 12: Grab mouse\n",
      "Step 13: Type on keyboard\n"
     ]
    }
   ],
   "source": [
    "import json\n",
    "\n",
    "# Specify the file path\n",
    "file_path = '../data/available_examples.json'\n",
    "\n",
    "# Open the file\n",
    "with open(file_path, 'r') as file:\n",
    "    data = json.load(file)\n",
    "\n",
    "# Print the data\n",
    "print(data[0])\n"
   ]
  },
  {
   "cell_type": "code",
   "execution_count": 11,
   "metadata": {},
   "outputs": [],
   "source": [
    "prompt = \"\"\"\n",
    "Example 1:\n",
    "Task: Hang up jacket\n",
    "Step 1: Walk to home office\n",
    "Step 2: Walk to clothes jacket\n",
    "Step 3: Find clothes jacket\n",
    "Step 4: Grab clothes jacket\n",
    "Step 5: Walk to wall\n",
    "Step 6: Find hanger\n",
    "Step 7: Put clothes jacket on hanger\n",
    "\n",
    "Example 2:\n",
    "Task: Write an email\n",
    "Step 1: Walk to home office\n",
    "Step 2: Walk to computer\n",
    "Step 3: Find computer\n",
    "Step 4: Turn to computer\n",
    "Step 5: Look at computer\n",
    "Step 6: Walk to computer\n",
    "Step 7: Find chair\n",
    "Step 8: Sit on chair\n",
    "Step 9: Find keyboard\n",
    "Step 10: Grab keyboard\n",
    "Step 11: Find mouse\n",
    "Step 12: Grab mouse\n",
    "Step 13: Type on keyboard\n",
    "\n",
    "Example 3:\n",
    "\"\"\""
   ]
  },
  {
   "cell_type": "code",
   "execution_count": 15,
   "metadata": {},
   "outputs": [
    {
     "data": {
      "text/plain": [
       "'Task: Clean kitchen\\nStep 1: Walk to kitchen\\nStep 2: Look at kitchen counter\\nStep 3: Find dirty dishes\\nStep 4: Pick up dirty dishes\\nStep 5: Walk to sink\\nStep 6: Put dirty dishes in sink\\nStep 7: Look at kitchen counter\\nStep 8: Find dirty dishes\\nStep 9: Pick up dirty dishes\\nStep 10: Walk to sink\\nStep 11: Put dirty dishes in sink\\nStep 12: Look at kitchen counter\\nStep 13: Find dirty dishes\\nStep 14: Pick up dirty dishes\\nStep 15: Walk to sink\\nStep 16: Put dirty dishes in sink\\nStep 17: Walk to sink\\nStep 18: Turn on faucet\\nStep 19: Put soap on sponge\\nStep 20: Clean dishes\\nStep 21: Turn off faucet\\nStep 22: Walk to kitchen counter\\nStep 23: Find clean dishes\\nStep 24: Pick up clean dishes\\nStep 25: Walk to cabinet\\nStep 26: Find cabinet\\nStep 27: Open cabinet\\nStep 28: Put clean dishes in cabinet\\n\\nExample 4:'"
      ]
     },
     "execution_count": 15,
     "metadata": {},
     "output_type": "execute_result"
    }
   ],
   "source": [
    "from huggingface_hub import InferenceClient\n",
    "\n",
    "model_id = 'mistralai/Mixtral-8x7B-Instruct-v0.1'\n",
    "\n",
    "client = InferenceClient(\n",
    "    model=model_id,\n",
    ")\n",
    "\n",
    "client.text_generation(\n",
    "    prompt,\n",
    "    max_new_tokens=500,\n",
    "    temperature = 0.5,\n",
    "    top_k = 40,\n",
    "    stop_sequences = [\"Example 4:\"]\n",
    ")"
   ]
  }
 ],
 "metadata": {
  "kernelspec": {
   "display_name": ".venv",
   "language": "python",
   "name": "python3"
  },
  "language_info": {
   "codemirror_mode": {
    "name": "ipython",
    "version": 3
   },
   "file_extension": ".py",
   "mimetype": "text/x-python",
   "name": "python",
   "nbconvert_exporter": "python",
   "pygments_lexer": "ipython3",
   "version": "3.11.0rc1"
  }
 },
 "nbformat": 4,
 "nbformat_minor": 2
}
