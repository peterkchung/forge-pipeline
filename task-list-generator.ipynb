{
 "cells": [
  {
   "cell_type": "code",
   "execution_count": null,
   "metadata": {},
   "outputs": [],
   "source": [
    "from datasets import load_dataset\n",
    "from huggingface_hub import InferenceClient\n",
    "\n",
    "from pprint import pprint\n",
    "import random\n",
    "import os"
   ]
  },
  {
   "cell_type": "markdown",
   "metadata": {},
   "source": [
    "Prompt\n",
    "Generate\n",
    "Post Process\n",
    "Validate"
   ]
  },
  {
   "cell_type": "code",
   "execution_count": null,
   "metadata": {},
   "outputs": [],
   "source": [
    "prompt = \"\"\"\n",
    "You are a helpful planning agent for data analysis. You are given tools and a description of progress. You need to generate a sequences of tasks and goals for a request using the tools and progress.\n",
    "Tools: {tools}\n",
    "Progress: {progress}\n",
    "Request: How can we {request}?\n",
    "Response:\n",
    "\"\"\"\n",
    "\n",
    "tools = {}\n",
    "\n",
    "progress = {}\n",
    "\n",
    "request = {}\n",
    "\n",
    "pprint(prompt)"
   ]
  }
 ],
 "metadata": {
  "language_info": {
   "name": "python"
  }
 },
 "nbformat": 4,
 "nbformat_minor": 2
}
