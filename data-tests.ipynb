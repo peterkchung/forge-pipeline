{
 "cells": [
  {
   "cell_type": "markdown",
   "metadata": {},
   "source": [
    "# Synthetically-Created, Human-Evaluated Reasoning Dataset\n",
    "\n",
    "- CommonsenseQA, StrategyQA\n",
    "- Varitions on questions / tasks / queries\n",
    "- Human eval\n",
    "- Think step-by-step reasoning prompts\n",
    "- Huamn eval\n",
    "- Answers to query + reasoning\n",
    "- Human eval\n",
    "\n",
    "Aim for 1,000 starting sampleset.\n"
   ]
  },
  {
   "cell_type": "code",
   "execution_count": 20,
   "metadata": {},
   "outputs": [],
   "source": [
    "from datasets import load_dataset\n",
    "from huggingface_hub import InferenceClient\n",
    "\n",
    "from pprint import pprint\n",
    "import random\n",
    "import os"
   ]
  },
  {
   "cell_type": "code",
   "execution_count": 2,
   "metadata": {},
   "outputs": [
    {
     "name": "stdout",
     "output_type": "stream",
     "text": [
      "DatasetDict({\n",
      "    train: Dataset({\n",
      "        features: ['id', 'question', 'question_concept', 'choices', 'answerKey'],\n",
      "        num_rows: 9741\n",
      "    })\n",
      "    validation: Dataset({\n",
      "        features: ['id', 'question', 'question_concept', 'choices', 'answerKey'],\n",
      "        num_rows: 1221\n",
      "    })\n",
      "    test: Dataset({\n",
      "        features: ['id', 'question', 'question_concept', 'choices', 'answerKey'],\n",
      "        num_rows: 1140\n",
      "    })\n",
      "})\n"
     ]
    }
   ],
   "source": [
    "\"\"\"\n",
    "CommonsenseQA from TAU (Tel Aviv University)\n",
    "\n",
    "https://arxiv.org/abs/1811.00937\n",
    "\n",
    "\"\"\"\n",
    "dataset_id = 'tau/commonsense_qa'\n",
    "\n",
    "dataset = load_dataset(dataset_id)\n",
    "print(dataset)"
   ]
  },
  {
   "cell_type": "code",
   "execution_count": 3,
   "metadata": {},
   "outputs": [
    {
     "name": "stdout",
     "output_type": "stream",
     "text": [
      "Dataset({\n",
      "    features: ['id', 'question', 'question_concept', 'choices', 'answerKey'],\n",
      "    num_rows: 9741\n",
      "})\n"
     ]
    }
   ],
   "source": [
    "train_dataset = dataset['train']\n",
    "print(train_dataset)"
   ]
  },
  {
   "cell_type": "code",
   "execution_count": 17,
   "metadata": {},
   "outputs": [
    {
     "name": "stdout",
     "output_type": "stream",
     "text": [
      "{'answerKey': 'A',\n",
      " 'choices': {'label': ['A', 'B', 'C', 'D', 'E'],\n",
      "             'text': ['jewelry store',\n",
      "                      'neck',\n",
      "                      'jewlery box',\n",
      "                      'jewelry box',\n",
      "                      'boutique']},\n",
      " 'id': '4c1cb0e95b99f72d55c068ba0255c54d',\n",
      " 'question': 'To locate a choker not located in a jewelry box or boutique '\n",
      "             'where would you go?',\n",
      " 'question_concept': 'choker'}\n"
     ]
    }
   ],
   "source": [
    "pprint(train_dataset[2])"
   ]
  },
  {
   "cell_type": "code",
   "execution_count": 16,
   "metadata": {},
   "outputs": [
    {
     "name": "stdout",
     "output_type": "stream",
     "text": [
      "('To locate a choker not located in a jewelry box or boutique where would you '\n",
      " 'go?')\n",
      "('Q: To locate a choker not located in a jewelry box or boutique where would '\n",
      " 'you go?\\n'\n",
      " \"A: Let's think step by step.\")\n"
     ]
    }
   ],
   "source": [
    "query = train_dataset[2]['question'].replace('  ', ' ')\n",
    "pprint(query)\n",
    "\n",
    "prompt = f\"Q: {query}\\nA: Let's think step by step.\"\n",
    "pprint(prompt)"
   ]
  },
  {
   "cell_type": "code",
   "execution_count": 22,
   "metadata": {},
   "outputs": [
    {
     "name": "stdout",
     "output_type": "stream",
     "text": [
      "('Q: To locate a choker not located in a jewelry box or boutique where would '\n",
      " 'you go?\\n'\n",
      " \"A: Let's think step by step.\")\n",
      "Response 1:  A choker is a type of necklace, so it is likely to be found in places where other types of necklaces are sold. Some options to consider include:\n",
      "\n",
      "* Department stores: Many department stores have sections dedicated to jewelry, where you may be able to find a choker.\n",
      "* Specialty jewelry stores: Stores that specialize in selling jewelry may carry a variety of chokers in different styles and price ranges.\n",
      "* Online marketplaces: Websites like Amazon, eBay, and Etsy offer a wide selection of chokers for sale. You can browse through the options and read customer reviews to help you make a decision.\n",
      "* Costume jewelry stores: If you're looking for a more affordable choker, costume jewelry stores may be a good option. These stores sell jewelry that is meant to be worn for special occasions or as a fashion accessory, rather than for fine jewelry.\n",
      "\n",
      "It's always a good idea to do some research and compare prices and styles before making a purchase. You can also consider asking friends or family members if they know of any good places to buy chokers, or check online forums and review websites for recommendations.\n",
      "Response 2:  The first options for locating a choker should be places that sell jewelry. If it is not in a jewelry box at home, one could look: 1) in a jewelry store, 2) a department store with a jewelry section, 3) an online marketplace or store specializing in jewelry, or 4) at a craft fair or boutique where independent artists sell their work. If those options don't yield results, you can try second-hand stores, consignment shops, or even online marketplaces like eBay or Craigslist. Another option could be to ask friends or family if they know where to find one, or if they have one they're willing to part with. Finally, there are many DIY tutorials online for making your own choker, which could be a fun and creative alternative.\n",
      "Response 3:  If you're not finding the choker in a jewelry box or boutique, it's possible that the person who owns it might have it on their person. You could ask them directly if they're wearing it. If they're not, then it's possible that they've stored it in a different location. You could ask them where they usually keep their jewelry. If they're unsure, you might suggest looking in other potential locations, such as a dresser drawer, a nightstand, or a closet. If all else fails, you could try doing a thorough search of the person's living space, but it's important to be respectful and ask for permission before searching through someone's belongings.\n"
     ]
    }
   ],
   "source": [
    "model_id = 'mistralai/Mixtral-8x7B-Instruct-v0.1'\n",
    "\n",
    "client = InferenceClient(\n",
    "    model = model_id,\n",
    "    token = os.getenv('HUGGINGFACE_TOKEN'),\n",
    ")\n",
    "\n",
    "prompt = f\"Q: {query}\\nA: Let's think step by step.\"\n",
    "pprint(prompt)\n",
    "\n",
    "for i in range(3):\n",
    "    seed = random.randint(0, 10000)\n",
    "    output = client.text_generation(\n",
    "        prompt,\n",
    "        max_new_tokens = 500,\n",
    "        do_sample=True,\n",
    "        seed=seed\n",
    "    )\n",
    "    print(f\"Response {i+1}: {output}\")"
   ]
  },
  {
   "cell_type": "code",
   "execution_count": null,
   "metadata": {},
   "outputs": [],
   "source": []
  }
 ],
 "metadata": {
  "kernelspec": {
   "display_name": ".venv",
   "language": "python",
   "name": "python3"
  },
  "language_info": {
   "codemirror_mode": {
    "name": "ipython",
    "version": 3
   },
   "file_extension": ".py",
   "mimetype": "text/x-python",
   "name": "python",
   "nbconvert_exporter": "python",
   "pygments_lexer": "ipython3",
   "version": "3.11.0rc1"
  }
 },
 "nbformat": 4,
 "nbformat_minor": 2
}
