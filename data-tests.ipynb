{
 "cells": [
  {
   "cell_type": "markdown",
   "metadata": {},
   "source": [
    "# Synthetically-Created, Human-Evaluated Reasoning Dataset\n",
    "\n",
    "- CommonsenseQA, StrategyQA\n",
    "- Varitions on questions / tasks / queries\n",
    "- Human eval\n",
    "- Think step-by-step reasoning prompts\n",
    "- Huamn eval\n",
    "- Answers to query + reasoning\n",
    "- Human eval\n",
    "\n",
    "Aim for 1,000 starting sampleset.\n"
   ]
  },
  {
   "cell_type": "code",
   "execution_count": 20,
   "metadata": {},
   "outputs": [],
   "source": [
    "from datasets import load_dataset\n",
    "from huggingface_hub import InferenceClient\n",
    "\n",
    "from pprint import pprint\n",
    "import random\n",
    "import os"
   ]
  },
  {
   "cell_type": "code",
   "execution_count": 2,
   "metadata": {},
   "outputs": [
    {
     "name": "stdout",
     "output_type": "stream",
     "text": [
      "DatasetDict({\n",
      "    train: Dataset({\n",
      "        features: ['id', 'question', 'question_concept', 'choices', 'answerKey'],\n",
      "        num_rows: 9741\n",
      "    })\n",
      "    validation: Dataset({\n",
      "        features: ['id', 'question', 'question_concept', 'choices', 'answerKey'],\n",
      "        num_rows: 1221\n",
      "    })\n",
      "    test: Dataset({\n",
      "        features: ['id', 'question', 'question_concept', 'choices', 'answerKey'],\n",
      "        num_rows: 1140\n",
      "    })\n",
      "})\n"
     ]
    }
   ],
   "source": [
    "\"\"\"\n",
    "CommonsenseQA from TAU (Tel Aviv University)\n",
    "\n",
    "https://arxiv.org/abs/1811.00937\n",
    "\n",
    "\"\"\"\n",
    "dataset_id = 'tau/commonsense_qa'\n",
    "\n",
    "dataset = load_dataset(dataset_id)\n",
    "print(dataset)"
   ]
  },
  {
   "cell_type": "code",
   "execution_count": 3,
   "metadata": {},
   "outputs": [
    {
     "name": "stdout",
     "output_type": "stream",
     "text": [
      "Dataset({\n",
      "    features: ['id', 'question', 'question_concept', 'choices', 'answerKey'],\n",
      "    num_rows: 9741\n",
      "})\n"
     ]
    }
   ],
   "source": [
    "train_dataset = dataset['train']\n",
    "print(train_dataset)"
   ]
  },
  {
   "cell_type": "code",
   "execution_count": 44,
   "metadata": {},
   "outputs": [
    {
     "data": {
      "text/plain": [
       "9741"
      ]
     },
     "execution_count": 44,
     "metadata": {},
     "output_type": "execute_result"
    }
   ],
   "source": [
    "len(train_dataset)"
   ]
  },
  {
   "cell_type": "code",
   "execution_count": 41,
   "metadata": {},
   "outputs": [
    {
     "name": "stdout",
     "output_type": "stream",
     "text": [
      "{'answerKey': 'A',\n",
      " 'choices': {'label': ['A', 'B', 'C', 'D', 'E'],\n",
      "             'text': ['loss of heat',\n",
      "                      'revenge',\n",
      "                      'expansion',\n",
      "                      'relaxation',\n",
      "                      'calm down']},\n",
      " 'id': 'b63b9809c203321d6659ddf8551894bf',\n",
      " 'question': \"James was cooling off two quickly.  He would die if he didn't \"\n",
      "             'find some way to stop what?',\n",
      " 'question_concept': 'cooling off'}\n"
     ]
    }
   ],
   "source": [
    "q_no = 13\n",
    "pprint(train_dataset[q_no])"
   ]
  },
  {
   "cell_type": "code",
   "execution_count": 46,
   "metadata": {},
   "outputs": [
    {
     "name": "stdout",
     "output_type": "stream",
     "text": [
      "('Q: Some say they are at odds, but many find solace in both science and '\n",
      " 'what?\\n'\n",
      " '        Choices: history studies, geography, religion, math, ghosts\\n'\n",
      " \"        A: Let's think step by step.\")\n",
      "('Q: The bus stop implemented a size restriction for luggage, where was the '\n",
      " 'bus stop going?\\n'\n",
      " '        Choices: boarding bus, city, fast, urban area, airport\\n'\n",
      " \"        A: Let's think step by step.\")\n",
      "('Q: What is the world full of?\\n'\n",
      " '        Choices: countries, thought, water, universe, galaxy\\n'\n",
      " \"        A: Let's think step by step.\")\n",
      "('Q: Where might a large dog live?\\n'\n",
      " '        Choices: guard house, shake hands, drink water, come home, small '\n",
      " 'house\\n'\n",
      " \"        A: Let's think step by step.\")\n",
      "('Q: If you buying a potato, carrots, strawberries and bananas, how would you '\n",
      " 'carry them home?\\n'\n",
      " '        Choices: restaurants, shopping bags, two wheels, vegetable soup, '\n",
      " 'exhaust pipe\\n'\n",
      " \"        A: Let's think step by step.\")\n",
      "('Q: What will someone like be if they receive a surprising bill?\\n'\n",
      " '        Choices: annoyance, happy, humor, might scare, irritated\\n'\n",
      " \"        A: Let's think step by step.\")\n",
      "('Q: The exhausted man needed to have rest, he soon fell to what?\\n'\n",
      " '        Choices: relax, sit down, sleep, his death, closing eyes\\n'\n",
      " \"        A: Let's think step by step.\")\n"
     ]
    },
    {
     "ename": "KeyboardInterrupt",
     "evalue": "",
     "output_type": "error",
     "traceback": [
      "\u001b[0;31m---------------------------------------------------------------------------\u001b[0m",
      "\u001b[0;31mKeyboardInterrupt\u001b[0m                         Traceback (most recent call last)",
      "Cell \u001b[0;32mIn[46], line 44\u001b[0m\n\u001b[1;32m     39\u001b[0m     response \u001b[38;5;241m=\u001b[39m {\n\u001b[1;32m     40\u001b[0m         \u001b[38;5;124m'\u001b[39m\u001b[38;5;124mid\u001b[39m\u001b[38;5;124m'\u001b[39m: train_dataset[q][\u001b[38;5;124m'\u001b[39m\u001b[38;5;124mid\u001b[39m\u001b[38;5;124m'\u001b[39m],\n\u001b[1;32m     41\u001b[0m         \u001b[38;5;124m'\u001b[39m\u001b[38;5;124mresponse\u001b[39m\u001b[38;5;124m'\u001b[39m: output\n\u001b[1;32m     42\u001b[0m     }\n\u001b[1;32m     43\u001b[0m     responses\u001b[38;5;241m.\u001b[39mappend(response)\n\u001b[0;32m---> 44\u001b[0m     \u001b[43mtime\u001b[49m\u001b[38;5;241;43m.\u001b[39;49m\u001b[43msleep\u001b[49m\u001b[43m(\u001b[49m\u001b[43mrandom\u001b[49m\u001b[38;5;241;43m.\u001b[39;49m\u001b[43muniform\u001b[49m\u001b[43m(\u001b[49m\u001b[38;5;241;43m1\u001b[39;49m\u001b[43m,\u001b[49m\u001b[43m \u001b[49m\u001b[38;5;241;43m10\u001b[39;49m\u001b[43m)\u001b[49m\u001b[43m)\u001b[49m\n\u001b[1;32m     46\u001b[0m \u001b[38;5;66;03m# Save responses to a JSON file\u001b[39;00m\n\u001b[1;32m     47\u001b[0m \u001b[38;5;28;01mwith\u001b[39;00m \u001b[38;5;28mopen\u001b[39m(\u001b[38;5;124m'\u001b[39m\u001b[38;5;124mdev/responses.json\u001b[39m\u001b[38;5;124m'\u001b[39m, \u001b[38;5;124m'\u001b[39m\u001b[38;5;124mw\u001b[39m\u001b[38;5;124m'\u001b[39m) \u001b[38;5;28;01mas\u001b[39;00m f:\n",
      "\u001b[0;31mKeyboardInterrupt\u001b[0m: "
     ]
    }
   ],
   "source": [
    "import json\n",
    "import time\n",
    "\n",
    "model_id = 'mistralai/Mixtral-8x7B-Instruct-v0.1'\n",
    "\n",
    "queries = random.sample(range(1, len(train_dataset) + 1), 1000)\n",
    "\n",
    "responses = []\n",
    "\n",
    "for q in queries:\n",
    "    query = train_dataset[q]['question'].replace('  ', ' ')\n",
    "    choices = train_dataset[q]['choices']['text']\n",
    "\n",
    "    client = InferenceClient(\n",
    "        model=model_id,\n",
    "        token=os.getenv('HUGGINGFACE_TOKEN'),\n",
    "    )\n",
    "\n",
    "    prompt = f\"Q: {query}\\n\\\n",
    "        Choices: {', '.join(choices)}\\n\\\n",
    "        A: Let's think step by step.\"\n",
    "    pprint(prompt)\n",
    "\n",
    "    seed = random.randint(0, 10000)\n",
    "\n",
    "    while True:\n",
    "        try:\n",
    "            output = client.text_generation(\n",
    "                prompt,\n",
    "                max_new_tokens=50,\n",
    "                do_sample=True,\n",
    "                seed=seed\n",
    "            )\n",
    "            break\n",
    "        except:\n",
    "            print(\"An interruption occurred. Retrying in 3 minutes.\")\n",
    "            time.sleep(180)  \n",
    "    \n",
    "    response = {\n",
    "        'id': train_dataset[q]['id'],\n",
    "        'response': output\n",
    "    }\n",
    "    responses.append(response)\n",
    "    time.sleep(random.uniform(1, 10))\n",
    "\n",
    "# Save responses to a JSON file\n",
    "with open('dev/responses.json', 'w') as f:\n",
    "    json.dump(responses, f)"
   ]
  },
  {
   "cell_type": "code",
   "execution_count": 47,
   "metadata": {},
   "outputs": [
    {
     "data": {
      "text/plain": [
       "[{'id': 'ff25fafed0a27ef1e13bb7fc531f6084',\n",
       "  'response': \" The answer cannot be history studies, geography, or math because the proponents of religion and science have their own views regarding these areas. Ghosts can be ruled out because there's no logical connection. This leaves us with religion. Hence,\"},\n",
       " {'id': 'a9378eb283e485b6cc3963da18d7fac4',\n",
       "  'response': ' The question says the bus stop implemented a size restriction for luggage. Therefore, many people will be carrying big luggage such as in an airport. That is why the answer is airport.'},\n",
       " {'id': 'b27e8dd39a3a8e4bbf8b1baa552d8e98',\n",
       "  'response': \" The world is a small part of observable universe, but not a whole universe. It is not a country, it is a planet that is a part of the galaxy, so that can't be an option neither. Most part of the world\"},\n",
       " {'id': 'aaac3a907ce186aa60b9679373b7624d',\n",
       "  'response': \" We know dogs can live in homes and houses, but the question asks for a large dog, so we're looking for a larger living space. A guard house is an outdoor structure that can house a large dog, making it the best answer.\"},\n",
       " {'id': '03ceff0d008f78c8b15f01866c85415f',\n",
       "  'response': ' Since these are foods to carry home, we need some kind of container or bag. So the answer is shopping bags. Choices like restaurants, vehicle parts (exhaust pipe), or prepared foods (vegetable soup) do not make sense in'},\n",
       " {'id': 'f9c52989bbe5f473267c6b39ceb12bff',\n",
       "  'response': \" SURPRISING bill means that they weren't expecting it. So it won't make them happy or humorous. And might scare isn't quite right either because it's not something scary, just unexpected. Therefore, the\"},\n",
       " {'id': '68df0b602ea8d4f67bff9606852df451',\n",
       "  'response': \" It makes sense to sit down for a rest, rather than falling to one's death. It's a very slight possibility that after the rest man fells down to sleep, and to the best of my knowledge, there are no mechanical devices\"}]"
      ]
     },
     "execution_count": 47,
     "metadata": {},
     "output_type": "execute_result"
    }
   ],
   "source": [
    "responses"
   ]
  }
 ],
 "metadata": {
  "kernelspec": {
   "display_name": ".venv",
   "language": "python",
   "name": "python3"
  },
  "language_info": {
   "codemirror_mode": {
    "name": "ipython",
    "version": 3
   },
   "file_extension": ".py",
   "mimetype": "text/x-python",
   "name": "python",
   "nbconvert_exporter": "python",
   "pygments_lexer": "ipython3",
   "version": "3.11.0rc1"
  }
 },
 "nbformat": 4,
 "nbformat_minor": 2
}
